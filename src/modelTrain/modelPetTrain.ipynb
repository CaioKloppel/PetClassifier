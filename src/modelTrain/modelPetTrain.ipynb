{
 "cells": [
  {
   "cell_type": "code",
   "execution_count": null,
   "id": "1d7bcbaa-953f-43dd-b785-5279b66356a0",
   "metadata": {},
   "outputs": [],
   "source": [
    "import pandas as pd\n",
    "import torch\n",
    "import torch.nn as nn\n",
    "import torch.optim as optim\n",
    "import torch.nn.functional as F\n",
    "from torch.optim.lr_scheduler import StepLR\n",
    "from torch.utils.data import TensorDataset, DataLoader\n",
    "from PIL import Image\n",
    "from torchvision import transforms\n",
    "import matplotlib.pyplot as plt\n",
    "from sklearn.metrics import accuracy_score, confusion_matrix, roc_curve, auc\n",
    "from sklearn.model_selection import train_test_split\n"
   ]
  },
  {
   "cell_type": "code",
   "execution_count": 2,
   "id": "e8188fa4-d3dc-41f1-a8bf-e036308c405e",
   "metadata": {},
   "outputs": [],
   "source": [
    "def load_image(image_path):\n",
    "    image = Image.open(image_path).convert('RGB')\n",
    "    return image"
   ]
  },
  {
   "cell_type": "code",
   "execution_count": 3,
   "id": "9b41c068-cd7c-41be-8122-086218f69f75",
   "metadata": {},
   "outputs": [],
   "source": [
    "def image_to_tensor(image):\n",
    "    transform_pipeline = transforms.Compose([\n",
    "    transforms.RandomHorizontalFlip(),\n",
    "    transforms.RandomRotation(10),\n",
    "    transforms.ColorJitter(brightness=0.2, contrast=0.2),\n",
    "    transforms.Resize((224,224)),\n",
    "    transforms.ToTensor(),\n",
    "])\n",
    "    return transform_pipeline(image)"
   ]
  },
  {
   "cell_type": "code",
   "execution_count": null,
   "id": "c608e89b-e299-4743-a0f5-74d66d2db2fa",
   "metadata": {},
   "outputs": [
    {
     "name": "stderr",
     "output_type": "stream",
     "text": [
      "/opt/conda/lib/python3.11/site-packages/PIL/TiffImagePlugin.py:935: UserWarning: Truncated File Read\n",
      "  warnings.warn(str(msg))\n"
     ]
    }
   ],
   "source": [
    "df = []\n",
    "for i in range(2):\n",
    "    for j in range(3500,11500):\n",
    "        if j != 11702:\n",
    "            image_path = f'../../data/PetImages/Cat/{j}.jpg' if i == 0 else f'../../data/PetImages/Dog/{j}.jpg'\n",
    "            \n",
    "            pil_image = load_image(image_path)\n",
    "            \n",
    "            image_tensor = image_to_tensor(pil_image)\n",
    "    \n",
    "            df.append(image_tensor)"
   ]
  },
  {
   "cell_type": "code",
   "execution_count": 5,
   "id": "b2c1f8ac-cc12-45b9-a5e6-22860eec9a7e",
   "metadata": {},
   "outputs": [],
   "source": [
    "df = torch.stack(df)"
   ]
  },
  {
   "cell_type": "code",
   "execution_count": 6,
   "id": "b10738b2-4573-4861-918a-60700704377a",
   "metadata": {},
   "outputs": [],
   "source": [
    "y = torch.cat((torch.zeros(8000), torch.ones(8000)), dim=0)"
   ]
  },
  {
   "cell_type": "code",
   "execution_count": 7,
   "id": "b3fcc412-7994-4bf8-8398-4eb95ad7c13e",
   "metadata": {},
   "outputs": [],
   "source": [
    "xTrain, xTest, yTrain, yTest = train_test_split(df, y, train_size=0.7, random_state=42)\n",
    "del df\n",
    "del y"
   ]
  },
  {
   "cell_type": "code",
   "execution_count": 8,
   "id": "bde7b6ee-897c-4773-b436-234f1bdc275a",
   "metadata": {},
   "outputs": [],
   "source": [
    "yTrain_tensor = yTrain.detach().clone().view(-1, 1) \n",
    "yTest_tensor = yTest.detach().clone().view(-1, 1)"
   ]
  },
  {
   "cell_type": "code",
   "execution_count": 9,
   "id": "5fdb5901-3e23-4e0d-949b-1c1de47aa3a4",
   "metadata": {},
   "outputs": [],
   "source": [
    "train_dataset = TensorDataset(xTrain, yTrain_tensor)\n",
    "test_dataset = TensorDataset(xTest, yTest_tensor)"
   ]
  },
  {
   "cell_type": "code",
   "execution_count": 10,
   "id": "04920139-b8df-443e-8db0-a535509cb34f",
   "metadata": {},
   "outputs": [],
   "source": [
    "train_loader = DataLoader(train_dataset, batch_size=64, shuffle=True)\n",
    "test_loader = DataLoader(test_dataset, batch_size=64, shuffle=False)\n",
    "validation_loader = DataLoader(test_dataset, batch_size=64, shuffle=False)"
   ]
  },
  {
   "cell_type": "code",
   "execution_count": 11,
   "id": "77fd0d96-a9a5-48ee-b93b-da50ca055006",
   "metadata": {},
   "outputs": [],
   "source": [
    "del xTrain, xTest, yTrain, yTest"
   ]
  },
  {
   "cell_type": "code",
   "execution_count": 12,
   "id": "b150de35-6520-4a7c-92f7-d2b8578ec01e",
   "metadata": {},
   "outputs": [],
   "source": [
    "class CNN2D(nn.Module):\n",
    "    def __init__(self):\n",
    "        super(CNN2D, self).__init__()\n",
    "        self.first_layer = nn.Sequential(\n",
    "            nn.Conv2d(in_channels=3, out_channels=32, kernel_size=(5, 5), padding=2),\n",
    "            nn.BatchNorm2d(32), \n",
    "            nn.ReLU()\n",
    "        )\n",
    "        self.pool1 = nn.MaxPool2d(kernel_size=(3, 3))\n",
    "        self.adjustment1 = nn.Sequential(\n",
    "            nn.Conv2d(in_channels=32, out_channels=64, kernel_size=(1, 1)),\n",
    "            nn.BatchNorm2d(64)\n",
    "        )\n",
    "        self.block1 = nn.Sequential(\n",
    "            nn.Conv2d(in_channels=32, out_channels=16, kernel_size=(1, 1)),\n",
    "            nn.BatchNorm2d(16),\n",
    "            nn.ReLU(),\n",
    "            nn.Conv2d(in_channels=16, out_channels=16, kernel_size=(3, 3), padding=1),\n",
    "            nn.BatchNorm2d(16),\n",
    "            nn.ReLU(),\n",
    "            nn.Conv2d(in_channels=16, out_channels=64, kernel_size=(1, 1)),\n",
    "            nn.BatchNorm2d(64)\n",
    "        )\n",
    "        self.adjustment2 = nn.Sequential(\n",
    "            nn.Conv2d(in_channels=64, out_channels=128, kernel_size=(1, 1)),\n",
    "            nn.BatchNorm2d(128)\n",
    "        )\n",
    "        self.block2 = nn.Sequential(\n",
    "            nn.Conv2d(in_channels=64, out_channels=32, kernel_size=(1, 1)),\n",
    "            nn.BatchNorm2d(32),\n",
    "            nn.ReLU(),\n",
    "            nn.Conv2d(in_channels=32, out_channels=32, kernel_size=(3, 3), padding=1),\n",
    "            nn.BatchNorm2d(32),\n",
    "            nn.ReLU(),\n",
    "            nn.Conv2d(in_channels=32, out_channels=128, kernel_size=(1, 1)),\n",
    "            nn.BatchNorm2d(128)\n",
    "        )\n",
    "        self.adjustment3 = nn.Sequential(\n",
    "            nn.Conv2d(in_channels=128, out_channels=256, kernel_size=(1, 1)),\n",
    "            nn.BatchNorm2d(256)\n",
    "        )\n",
    "        self.block3 = nn.Sequential(\n",
    "            nn.Conv2d(in_channels=128, out_channels=64, kernel_size=(1, 1)),\n",
    "            nn.BatchNorm2d(64),\n",
    "            nn.ReLU(),\n",
    "            nn.Conv2d(in_channels=64, out_channels=64, kernel_size=(3, 3), padding=1),\n",
    "            nn.BatchNorm2d(64),\n",
    "            nn.ReLU(),\n",
    "            nn.Conv2d(in_channels=64, out_channels=256, kernel_size=(1, 1)),\n",
    "            nn.BatchNorm2d(256)\n",
    "        )\n",
    "        self.adaptive_pool = nn.AdaptiveAvgPool2d((2, 2))\n",
    "        self.flatten = nn.Flatten()\n",
    "        self.dense_layer = nn.Sequential(\n",
    "            nn.Linear(256 * 2 * 2, 1)\n",
    "        )\n",
    "\n",
    "    def forward(self, x):\n",
    "        x = self.first_layer(x)\n",
    "\n",
    "        x = self.pool1(x)\n",
    "        \n",
    "        identity = self.adjustment1(x)\n",
    "        x = self.block1(x)\n",
    "        x = x + identity \n",
    "        x = F.relu(x)\n",
    "\n",
    "        identity = self.adjustment2(x)\n",
    "        x = self.block2(x)\n",
    "        x = x + identity \n",
    "        x = F.relu(x)\n",
    "\n",
    "        identity = self.adjustment3(x)\n",
    "        x = self.block3(x)\n",
    "        x = x + identity \n",
    "        x = F.relu(x)\n",
    "\n",
    "        x = self.adaptive_pool(x)\n",
    "        x = self.flatten(x)\n",
    "        x = self.dense_layer(x)\n",
    "        return x"
   ]
  },
  {
   "cell_type": "code",
   "execution_count": 13,
   "id": "8796a54a-b1b6-49ee-bc2f-867d1d25b52d",
   "metadata": {},
   "outputs": [],
   "source": [
    "model = CNN2D()\n",
    "model.load_state_dict(torch.load('modeloPet6.pth'))\n",
    "\n",
    "device = torch.device(\"cuda\" if torch.cuda.is_available() else \"cpu\")"
   ]
  },
  {
   "cell_type": "code",
   "execution_count": 14,
   "id": "80d29e6a-adb7-49b7-a473-4981c6700c6c",
   "metadata": {},
   "outputs": [],
   "source": [
    "model = model.to(device)"
   ]
  },
  {
   "cell_type": "code",
   "execution_count": 15,
   "id": "b6a416a3-dfd4-4104-b876-c67263528c29",
   "metadata": {},
   "outputs": [
    {
     "name": "stdout",
     "output_type": "stream",
     "text": [
      "CNN2D(\n",
      "  (first_layer): Sequential(\n",
      "    (0): Conv2d(3, 32, kernel_size=(5, 5), stride=(1, 1), padding=(2, 2))\n",
      "    (1): BatchNorm2d(32, eps=1e-05, momentum=0.1, affine=True, track_running_stats=True)\n",
      "    (2): ReLU()\n",
      "  )\n",
      "  (pool1): MaxPool2d(kernel_size=(3, 3), stride=(3, 3), padding=0, dilation=1, ceil_mode=False)\n",
      "  (adjustment1): Sequential(\n",
      "    (0): Conv2d(32, 64, kernel_size=(1, 1), stride=(1, 1))\n",
      "    (1): BatchNorm2d(64, eps=1e-05, momentum=0.1, affine=True, track_running_stats=True)\n",
      "  )\n",
      "  (block1): Sequential(\n",
      "    (0): Conv2d(32, 16, kernel_size=(1, 1), stride=(1, 1))\n",
      "    (1): BatchNorm2d(16, eps=1e-05, momentum=0.1, affine=True, track_running_stats=True)\n",
      "    (2): ReLU()\n",
      "    (3): Conv2d(16, 16, kernel_size=(3, 3), stride=(1, 1), padding=(1, 1))\n",
      "    (4): BatchNorm2d(16, eps=1e-05, momentum=0.1, affine=True, track_running_stats=True)\n",
      "    (5): ReLU()\n",
      "    (6): Conv2d(16, 64, kernel_size=(1, 1), stride=(1, 1))\n",
      "    (7): BatchNorm2d(64, eps=1e-05, momentum=0.1, affine=True, track_running_stats=True)\n",
      "  )\n",
      "  (adjustment2): Sequential(\n",
      "    (0): Conv2d(64, 128, kernel_size=(1, 1), stride=(1, 1))\n",
      "    (1): BatchNorm2d(128, eps=1e-05, momentum=0.1, affine=True, track_running_stats=True)\n",
      "  )\n",
      "  (block2): Sequential(\n",
      "    (0): Conv2d(64, 32, kernel_size=(1, 1), stride=(1, 1))\n",
      "    (1): BatchNorm2d(32, eps=1e-05, momentum=0.1, affine=True, track_running_stats=True)\n",
      "    (2): ReLU()\n",
      "    (3): Conv2d(32, 32, kernel_size=(3, 3), stride=(1, 1), padding=(1, 1))\n",
      "    (4): BatchNorm2d(32, eps=1e-05, momentum=0.1, affine=True, track_running_stats=True)\n",
      "    (5): ReLU()\n",
      "    (6): Conv2d(32, 128, kernel_size=(1, 1), stride=(1, 1))\n",
      "    (7): BatchNorm2d(128, eps=1e-05, momentum=0.1, affine=True, track_running_stats=True)\n",
      "  )\n",
      "  (adjustment3): Sequential(\n",
      "    (0): Conv2d(128, 256, kernel_size=(1, 1), stride=(1, 1))\n",
      "    (1): BatchNorm2d(256, eps=1e-05, momentum=0.1, affine=True, track_running_stats=True)\n",
      "  )\n",
      "  (block3): Sequential(\n",
      "    (0): Conv2d(128, 64, kernel_size=(1, 1), stride=(1, 1))\n",
      "    (1): BatchNorm2d(64, eps=1e-05, momentum=0.1, affine=True, track_running_stats=True)\n",
      "    (2): ReLU()\n",
      "    (3): Conv2d(64, 64, kernel_size=(3, 3), stride=(1, 1), padding=(1, 1))\n",
      "    (4): BatchNorm2d(64, eps=1e-05, momentum=0.1, affine=True, track_running_stats=True)\n",
      "    (5): ReLU()\n",
      "    (6): Conv2d(64, 256, kernel_size=(1, 1), stride=(1, 1))\n",
      "    (7): BatchNorm2d(256, eps=1e-05, momentum=0.1, affine=True, track_running_stats=True)\n",
      "  )\n",
      "  (adaptive_pool): AdaptiveAvgPool2d(output_size=(2, 2))\n",
      "  (flatten): Flatten(start_dim=1, end_dim=-1)\n",
      "  (dense_layer): Sequential(\n",
      "    (0): Linear(in_features=1024, out_features=1, bias=True)\n",
      "  )\n",
      ")\n"
     ]
    }
   ],
   "source": [
    "print(model)"
   ]
  },
  {
   "cell_type": "code",
   "execution_count": 16,
   "id": "36cfdf0e-0728-4b64-9d7e-2b9801a2440e",
   "metadata": {},
   "outputs": [],
   "source": [
    "criterion = nn.BCEWithLogitsLoss() \n",
    "optimizer = optim.Adam(model.parameters(), lr=0.001, weight_decay=1e-5)\n",
    "scheduler = StepLR(optimizer, step_size=50, gamma=0.1)\n",
    "num_epochs = 150\n",
    "history = {'loss': [], 'accuracy': [], 'val_loss': [], 'val_accuracy': []}"
   ]
  },
  {
   "cell_type": "code",
   "execution_count": 17,
   "id": "2dd8d721-fe39-41ca-aac6-a8f8b49286e5",
   "metadata": {
    "scrolled": true
   },
   "outputs": [
    {
     "name": "stdout",
     "output_type": "stream",
     "text": [
      "Epoch [1/150], Loss: 0.4598, Accuracy: 0.8428, Val Loss: 0.3510, Val Accuracy: 0.8221, Learning Rate: 0.0010000\n",
      "Epoch [2/150], Loss: 0.2786, Accuracy: 0.8778, Val Loss: 0.3346, Val Accuracy: 0.8473, Learning Rate: 0.0010000\n",
      "Epoch [3/150], Loss: 0.2644, Accuracy: 0.8821, Val Loss: 0.3980, Val Accuracy: 0.8229, Learning Rate: 0.0010000\n",
      "Epoch [4/150], Loss: 0.2472, Accuracy: 0.8942, Val Loss: 0.5345, Val Accuracy: 0.7729, Learning Rate: 0.0010000\n",
      "Epoch [5/150], Loss: 0.2312, Accuracy: 0.8979, Val Loss: 0.3370, Val Accuracy: 0.8452, Learning Rate: 0.0010000\n",
      "Epoch [6/150], Loss: 0.2227, Accuracy: 0.9015, Val Loss: 0.3131, Val Accuracy: 0.8729, Learning Rate: 0.0010000\n",
      "Epoch [7/150], Loss: 0.2055, Accuracy: 0.9087, Val Loss: 0.3027, Val Accuracy: 0.8802, Learning Rate: 0.0010000\n",
      "Epoch [8/150], Loss: 0.1893, Accuracy: 0.9179, Val Loss: 0.3801, Val Accuracy: 0.8104, Learning Rate: 0.0010000\n",
      "Epoch [9/150], Loss: 0.1809, Accuracy: 0.9202, Val Loss: 0.7598, Val Accuracy: 0.7619, Learning Rate: 0.0010000\n",
      "Epoch [10/150], Loss: 0.1778, Accuracy: 0.9209, Val Loss: 0.6021, Val Accuracy: 0.8008, Learning Rate: 0.0010000\n",
      "Epoch [11/150], Loss: 0.1582, Accuracy: 0.9314, Val Loss: 0.9819, Val Accuracy: 0.7767, Learning Rate: 0.0010000\n",
      "Epoch [12/150], Loss: 0.1420, Accuracy: 0.9409, Val Loss: 0.3634, Val Accuracy: 0.8610, Learning Rate: 0.0010000\n",
      "Epoch [13/150], Loss: 0.1309, Accuracy: 0.9452, Val Loss: 0.3620, Val Accuracy: 0.8873, Learning Rate: 0.0010000\n",
      "Epoch [14/150], Loss: 0.1327, Accuracy: 0.9451, Val Loss: 0.4095, Val Accuracy: 0.8481, Learning Rate: 0.0010000\n",
      "Epoch [15/150], Loss: 0.1304, Accuracy: 0.9463, Val Loss: 0.7406, Val Accuracy: 0.7217, Learning Rate: 0.0010000\n",
      "Epoch [16/150], Loss: 0.1128, Accuracy: 0.9539, Val Loss: 1.2575, Val Accuracy: 0.6700, Learning Rate: 0.0010000\n",
      "Epoch [17/150], Loss: 0.1087, Accuracy: 0.9547, Val Loss: 0.3401, Val Accuracy: 0.8771, Learning Rate: 0.0010000\n",
      "Epoch [18/150], Loss: 0.0926, Accuracy: 0.9642, Val Loss: 0.3255, Val Accuracy: 0.8738, Learning Rate: 0.0010000\n",
      "Epoch [19/150], Loss: 0.0979, Accuracy: 0.9595, Val Loss: 0.4174, Val Accuracy: 0.8606, Learning Rate: 0.0010000\n",
      "Epoch [20/150], Loss: 0.1002, Accuracy: 0.9594, Val Loss: 0.4923, Val Accuracy: 0.8617, Learning Rate: 0.0010000\n",
      "Epoch [21/150], Loss: 0.0842, Accuracy: 0.9675, Val Loss: 0.4242, Val Accuracy: 0.8758, Learning Rate: 0.0010000\n",
      "Epoch [22/150], Loss: 0.0815, Accuracy: 0.9667, Val Loss: 0.3832, Val Accuracy: 0.8696, Learning Rate: 0.0010000\n",
      "Epoch [23/150], Loss: 0.0819, Accuracy: 0.9679, Val Loss: 0.4776, Val Accuracy: 0.8675, Learning Rate: 0.0010000\n",
      "Epoch [24/150], Loss: 0.0847, Accuracy: 0.9661, Val Loss: 0.4234, Val Accuracy: 0.8623, Learning Rate: 0.0010000\n",
      "Epoch [25/150], Loss: 0.0607, Accuracy: 0.9779, Val Loss: 0.4384, Val Accuracy: 0.8840, Learning Rate: 0.0010000\n",
      "Epoch [26/150], Loss: 0.0472, Accuracy: 0.9837, Val Loss: 0.3778, Val Accuracy: 0.8702, Learning Rate: 0.0010000\n",
      "Epoch [27/150], Loss: 0.0510, Accuracy: 0.9803, Val Loss: 0.4767, Val Accuracy: 0.8731, Learning Rate: 0.0010000\n",
      "Epoch [28/150], Loss: 0.0607, Accuracy: 0.9771, Val Loss: 0.9033, Val Accuracy: 0.8194, Learning Rate: 0.0010000\n",
      "Epoch [29/150], Loss: 0.0713, Accuracy: 0.9703, Val Loss: 0.5387, Val Accuracy: 0.8258, Learning Rate: 0.0010000\n",
      "Epoch [30/150], Loss: 0.0820, Accuracy: 0.9675, Val Loss: 0.4978, Val Accuracy: 0.8308, Learning Rate: 0.0010000\n",
      "Epoch [31/150], Loss: 0.0584, Accuracy: 0.9774, Val Loss: 0.3997, Val Accuracy: 0.8898, Learning Rate: 0.0010000\n",
      "Epoch [32/150], Loss: 0.0484, Accuracy: 0.9811, Val Loss: 0.5021, Val Accuracy: 0.8560, Learning Rate: 0.0010000\n",
      "Epoch [33/150], Loss: 0.0387, Accuracy: 0.9858, Val Loss: 0.3533, Val Accuracy: 0.8927, Learning Rate: 0.0010000\n",
      "Epoch [34/150], Loss: 0.0392, Accuracy: 0.9850, Val Loss: 0.3493, Val Accuracy: 0.8912, Learning Rate: 0.0010000\n",
      "Epoch [35/150], Loss: 0.0460, Accuracy: 0.9820, Val Loss: 0.5160, Val Accuracy: 0.8400, Learning Rate: 0.0010000\n",
      "Epoch [36/150], Loss: 0.0316, Accuracy: 0.9903, Val Loss: 0.3921, Val Accuracy: 0.8938, Learning Rate: 0.0010000\n",
      "Epoch [37/150], Loss: 0.0582, Accuracy: 0.9775, Val Loss: 0.4256, Val Accuracy: 0.8712, Learning Rate: 0.0010000\n",
      "Epoch [38/150], Loss: 0.0640, Accuracy: 0.9753, Val Loss: 0.7064, Val Accuracy: 0.8606, Learning Rate: 0.0010000\n",
      "Epoch [39/150], Loss: 0.0405, Accuracy: 0.9845, Val Loss: 0.3784, Val Accuracy: 0.8794, Learning Rate: 0.0010000\n",
      "Epoch [40/150], Loss: 0.0405, Accuracy: 0.9849, Val Loss: 0.3487, Val Accuracy: 0.8958, Learning Rate: 0.0010000\n",
      "Epoch [41/150], Loss: 0.0209, Accuracy: 0.9938, Val Loss: 0.4505, Val Accuracy: 0.8927, Learning Rate: 0.0010000\n",
      "Epoch [42/150], Loss: 0.0293, Accuracy: 0.9896, Val Loss: 0.3798, Val Accuracy: 0.8981, Learning Rate: 0.0010000\n",
      "Epoch [43/150], Loss: 0.0205, Accuracy: 0.9946, Val Loss: 0.5536, Val Accuracy: 0.8810, Learning Rate: 0.0010000\n",
      "Epoch [44/150], Loss: 0.0214, Accuracy: 0.9926, Val Loss: 0.5759, Val Accuracy: 0.8608, Learning Rate: 0.0010000\n",
      "Epoch [45/150], Loss: 0.0866, Accuracy: 0.9677, Val Loss: 0.3952, Val Accuracy: 0.8698, Learning Rate: 0.0010000\n",
      "Epoch [46/150], Loss: 0.0697, Accuracy: 0.9725, Val Loss: 0.4152, Val Accuracy: 0.8942, Learning Rate: 0.0010000\n",
      "Epoch [47/150], Loss: 0.0175, Accuracy: 0.9950, Val Loss: 0.3765, Val Accuracy: 0.9000, Learning Rate: 0.0010000\n",
      "Epoch [48/150], Loss: 0.0104, Accuracy: 0.9978, Val Loss: 0.3592, Val Accuracy: 0.9017, Learning Rate: 0.0010000\n",
      "Epoch [49/150], Loss: 0.0066, Accuracy: 0.9994, Val Loss: 0.3938, Val Accuracy: 0.8975, Learning Rate: 0.0010000\n",
      "Epoch [50/150], Loss: 0.0074, Accuracy: 0.9983, Val Loss: 0.5619, Val Accuracy: 0.8771, Learning Rate: 0.0001000\n",
      "Epoch [51/150], Loss: 0.0074, Accuracy: 0.9984, Val Loss: 0.3401, Val Accuracy: 0.9085, Learning Rate: 0.0001000\n",
      "Epoch [52/150], Loss: 0.0033, Accuracy: 1.0000, Val Loss: 0.3362, Val Accuracy: 0.9090, Learning Rate: 0.0001000\n",
      "Epoch [53/150], Loss: 0.0026, Accuracy: 1.0000, Val Loss: 0.3303, Val Accuracy: 0.9096, Learning Rate: 0.0001000\n",
      "Epoch [54/150], Loss: 0.0025, Accuracy: 0.9999, Val Loss: 0.3326, Val Accuracy: 0.9104, Learning Rate: 0.0001000\n",
      "Epoch [55/150], Loss: 0.0023, Accuracy: 1.0000, Val Loss: 0.3330, Val Accuracy: 0.9102, Learning Rate: 0.0001000\n",
      "Epoch [56/150], Loss: 0.0021, Accuracy: 0.9999, Val Loss: 0.3312, Val Accuracy: 0.9110, Learning Rate: 0.0001000\n",
      "Epoch [57/150], Loss: 0.0021, Accuracy: 1.0000, Val Loss: 0.3402, Val Accuracy: 0.9100, Learning Rate: 0.0001000\n",
      "Epoch [58/150], Loss: 0.0020, Accuracy: 1.0000, Val Loss: 0.3285, Val Accuracy: 0.9113, Learning Rate: 0.0001000\n",
      "Epoch [59/150], Loss: 0.0017, Accuracy: 1.0000, Val Loss: 0.3345, Val Accuracy: 0.9117, Learning Rate: 0.0001000\n",
      "Epoch [60/150], Loss: 0.0019, Accuracy: 1.0000, Val Loss: 0.3334, Val Accuracy: 0.9121, Learning Rate: 0.0001000\n",
      "Epoch [61/150], Loss: 0.0017, Accuracy: 1.0000, Val Loss: 0.3343, Val Accuracy: 0.9115, Learning Rate: 0.0001000\n",
      "Epoch [62/150], Loss: 0.0018, Accuracy: 1.0000, Val Loss: 0.3358, Val Accuracy: 0.9115, Learning Rate: 0.0001000\n",
      "Epoch [63/150], Loss: 0.0017, Accuracy: 1.0000, Val Loss: 0.3369, Val Accuracy: 0.9113, Learning Rate: 0.0001000\n",
      "Epoch [64/150], Loss: 0.0015, Accuracy: 1.0000, Val Loss: 0.3321, Val Accuracy: 0.9117, Learning Rate: 0.0001000\n",
      "Epoch [65/150], Loss: 0.0015, Accuracy: 1.0000, Val Loss: 0.3411, Val Accuracy: 0.9117, Learning Rate: 0.0001000\n",
      "Epoch [66/150], Loss: 0.0015, Accuracy: 1.0000, Val Loss: 0.3358, Val Accuracy: 0.9127, Learning Rate: 0.0001000\n",
      "Epoch [67/150], Loss: 0.0014, Accuracy: 1.0000, Val Loss: 0.3368, Val Accuracy: 0.9121, Learning Rate: 0.0001000\n",
      "Epoch [68/150], Loss: 0.0013, Accuracy: 1.0000, Val Loss: 0.3419, Val Accuracy: 0.9121, Learning Rate: 0.0001000\n",
      "Epoch [69/150], Loss: 0.0012, Accuracy: 1.0000, Val Loss: 0.3433, Val Accuracy: 0.9121, Learning Rate: 0.0001000\n",
      "Epoch [70/150], Loss: 0.0014, Accuracy: 1.0000, Val Loss: 0.3383, Val Accuracy: 0.9117, Learning Rate: 0.0001000\n",
      "Epoch [71/150], Loss: 0.0011, Accuracy: 1.0000, Val Loss: 0.3344, Val Accuracy: 0.9110, Learning Rate: 0.0001000\n",
      "Epoch [72/150], Loss: 0.0012, Accuracy: 1.0000, Val Loss: 0.3420, Val Accuracy: 0.9104, Learning Rate: 0.0001000\n",
      "Epoch [73/150], Loss: 0.0011, Accuracy: 1.0000, Val Loss: 0.3440, Val Accuracy: 0.9121, Learning Rate: 0.0001000\n",
      "Epoch [74/150], Loss: 0.0012, Accuracy: 1.0000, Val Loss: 0.3528, Val Accuracy: 0.9125, Learning Rate: 0.0001000\n",
      "Epoch [75/150], Loss: 0.0012, Accuracy: 1.0000, Val Loss: 0.3490, Val Accuracy: 0.9110, Learning Rate: 0.0001000\n",
      "Epoch [76/150], Loss: 0.0012, Accuracy: 1.0000, Val Loss: 0.3399, Val Accuracy: 0.9079, Learning Rate: 0.0001000\n",
      "Epoch [77/150], Loss: 0.0012, Accuracy: 1.0000, Val Loss: 0.3518, Val Accuracy: 0.9127, Learning Rate: 0.0001000\n",
      "Epoch [78/150], Loss: 0.0010, Accuracy: 1.0000, Val Loss: 0.3502, Val Accuracy: 0.9135, Learning Rate: 0.0001000\n",
      "Epoch [79/150], Loss: 0.0009, Accuracy: 1.0000, Val Loss: 0.3492, Val Accuracy: 0.9094, Learning Rate: 0.0001000\n",
      "Epoch [80/150], Loss: 0.0009, Accuracy: 1.0000, Val Loss: 0.3670, Val Accuracy: 0.9104, Learning Rate: 0.0001000\n",
      "Epoch [81/150], Loss: 0.0009, Accuracy: 1.0000, Val Loss: 0.3451, Val Accuracy: 0.9098, Learning Rate: 0.0001000\n",
      "Epoch [82/150], Loss: 0.0011, Accuracy: 1.0000, Val Loss: 0.3544, Val Accuracy: 0.9108, Learning Rate: 0.0001000\n",
      "Epoch [83/150], Loss: 0.0008, Accuracy: 1.0000, Val Loss: 0.3518, Val Accuracy: 0.9117, Learning Rate: 0.0001000\n",
      "Epoch [84/150], Loss: 0.0009, Accuracy: 1.0000, Val Loss: 0.3443, Val Accuracy: 0.9096, Learning Rate: 0.0001000\n",
      "Epoch [85/150], Loss: 0.0009, Accuracy: 1.0000, Val Loss: 0.3644, Val Accuracy: 0.9106, Learning Rate: 0.0001000\n",
      "Epoch [86/150], Loss: 0.0010, Accuracy: 1.0000, Val Loss: 0.3601, Val Accuracy: 0.9117, Learning Rate: 0.0001000\n",
      "Epoch [87/150], Loss: 0.0010, Accuracy: 1.0000, Val Loss: 0.3556, Val Accuracy: 0.9108, Learning Rate: 0.0001000\n",
      "Epoch [88/150], Loss: 0.0007, Accuracy: 1.0000, Val Loss: 0.3512, Val Accuracy: 0.9119, Learning Rate: 0.0001000\n",
      "Epoch [89/150], Loss: 0.0008, Accuracy: 1.0000, Val Loss: 0.3595, Val Accuracy: 0.9133, Learning Rate: 0.0001000\n",
      "Epoch [90/150], Loss: 0.0009, Accuracy: 1.0000, Val Loss: 0.3588, Val Accuracy: 0.9110, Learning Rate: 0.0001000\n",
      "Epoch [91/150], Loss: 0.0007, Accuracy: 1.0000, Val Loss: 0.3707, Val Accuracy: 0.9104, Learning Rate: 0.0001000\n",
      "Epoch [92/150], Loss: 0.0007, Accuracy: 1.0000, Val Loss: 0.3649, Val Accuracy: 0.9119, Learning Rate: 0.0001000\n",
      "Epoch [93/150], Loss: 0.0010, Accuracy: 1.0000, Val Loss: 0.3668, Val Accuracy: 0.9106, Learning Rate: 0.0001000\n",
      "Epoch [94/150], Loss: 0.0009, Accuracy: 1.0000, Val Loss: 0.3602, Val Accuracy: 0.9090, Learning Rate: 0.0001000\n",
      "Epoch [95/150], Loss: 0.0015, Accuracy: 0.9999, Val Loss: 0.4135, Val Accuracy: 0.9056, Learning Rate: 0.0001000\n",
      "Epoch [96/150], Loss: 0.0014, Accuracy: 0.9999, Val Loss: 0.3644, Val Accuracy: 0.9106, Learning Rate: 0.0001000\n",
      "Epoch [97/150], Loss: 0.0008, Accuracy: 1.0000, Val Loss: 0.3745, Val Accuracy: 0.9098, Learning Rate: 0.0001000\n",
      "Epoch [98/150], Loss: 0.0006, Accuracy: 1.0000, Val Loss: 0.3596, Val Accuracy: 0.9119, Learning Rate: 0.0001000\n",
      "Epoch [99/150], Loss: 0.0005, Accuracy: 1.0000, Val Loss: 0.3630, Val Accuracy: 0.9096, Learning Rate: 0.0001000\n",
      "Epoch [100/150], Loss: 0.0005, Accuracy: 1.0000, Val Loss: 0.3672, Val Accuracy: 0.9102, Learning Rate: 0.0000100\n",
      "Epoch [101/150], Loss: 0.0005, Accuracy: 1.0000, Val Loss: 0.3682, Val Accuracy: 0.9098, Learning Rate: 0.0000100\n",
      "Epoch [102/150], Loss: 0.0004, Accuracy: 1.0000, Val Loss: 0.3623, Val Accuracy: 0.9100, Learning Rate: 0.0000100\n",
      "Epoch [103/150], Loss: 0.0005, Accuracy: 1.0000, Val Loss: 0.3669, Val Accuracy: 0.9108, Learning Rate: 0.0000100\n",
      "Epoch [104/150], Loss: 0.0004, Accuracy: 1.0000, Val Loss: 0.3632, Val Accuracy: 0.9104, Learning Rate: 0.0000100\n",
      "Epoch [105/150], Loss: 0.0004, Accuracy: 1.0000, Val Loss: 0.3633, Val Accuracy: 0.9102, Learning Rate: 0.0000100\n",
      "Epoch [106/150], Loss: 0.0005, Accuracy: 1.0000, Val Loss: 0.3628, Val Accuracy: 0.9104, Learning Rate: 0.0000100\n",
      "Epoch [107/150], Loss: 0.0004, Accuracy: 1.0000, Val Loss: 0.3612, Val Accuracy: 0.9106, Learning Rate: 0.0000100\n",
      "Epoch [108/150], Loss: 0.0005, Accuracy: 1.0000, Val Loss: 0.3682, Val Accuracy: 0.9104, Learning Rate: 0.0000100\n",
      "Epoch [109/150], Loss: 0.0004, Accuracy: 1.0000, Val Loss: 0.3664, Val Accuracy: 0.9100, Learning Rate: 0.0000100\n",
      "Epoch [110/150], Loss: 0.0004, Accuracy: 1.0000, Val Loss: 0.3665, Val Accuracy: 0.9110, Learning Rate: 0.0000100\n",
      "Epoch [111/150], Loss: 0.0005, Accuracy: 1.0000, Val Loss: 0.3647, Val Accuracy: 0.9106, Learning Rate: 0.0000100\n",
      "Epoch [112/150], Loss: 0.0004, Accuracy: 1.0000, Val Loss: 0.3682, Val Accuracy: 0.9113, Learning Rate: 0.0000100\n",
      "Epoch [113/150], Loss: 0.0004, Accuracy: 1.0000, Val Loss: 0.3616, Val Accuracy: 0.9106, Learning Rate: 0.0000100\n",
      "Epoch [114/150], Loss: 0.0004, Accuracy: 1.0000, Val Loss: 0.3649, Val Accuracy: 0.9106, Learning Rate: 0.0000100\n",
      "Epoch [115/150], Loss: 0.0004, Accuracy: 1.0000, Val Loss: 0.3666, Val Accuracy: 0.9110, Learning Rate: 0.0000100\n",
      "Epoch [116/150], Loss: 0.0005, Accuracy: 1.0000, Val Loss: 0.3673, Val Accuracy: 0.9108, Learning Rate: 0.0000100\n",
      "Epoch [117/150], Loss: 0.0004, Accuracy: 1.0000, Val Loss: 0.3654, Val Accuracy: 0.9106, Learning Rate: 0.0000100\n",
      "Epoch [118/150], Loss: 0.0004, Accuracy: 1.0000, Val Loss: 0.3718, Val Accuracy: 0.9106, Learning Rate: 0.0000100\n",
      "Epoch [119/150], Loss: 0.0004, Accuracy: 1.0000, Val Loss: 0.3686, Val Accuracy: 0.9108, Learning Rate: 0.0000100\n",
      "Epoch [120/150], Loss: 0.0004, Accuracy: 1.0000, Val Loss: 0.3656, Val Accuracy: 0.9110, Learning Rate: 0.0000100\n",
      "Epoch [121/150], Loss: 0.0004, Accuracy: 1.0000, Val Loss: 0.3701, Val Accuracy: 0.9117, Learning Rate: 0.0000100\n",
      "Epoch [122/150], Loss: 0.0004, Accuracy: 1.0000, Val Loss: 0.3617, Val Accuracy: 0.9125, Learning Rate: 0.0000100\n",
      "Epoch [123/150], Loss: 0.0004, Accuracy: 1.0000, Val Loss: 0.3683, Val Accuracy: 0.9098, Learning Rate: 0.0000100\n",
      "Epoch [124/150], Loss: 0.0004, Accuracy: 1.0000, Val Loss: 0.3646, Val Accuracy: 0.9115, Learning Rate: 0.0000100\n",
      "Epoch [125/150], Loss: 0.0005, Accuracy: 1.0000, Val Loss: 0.3660, Val Accuracy: 0.9100, Learning Rate: 0.0000100\n",
      "Epoch [126/150], Loss: 0.0004, Accuracy: 1.0000, Val Loss: 0.3678, Val Accuracy: 0.9104, Learning Rate: 0.0000100\n",
      "Epoch [127/150], Loss: 0.0004, Accuracy: 1.0000, Val Loss: 0.3727, Val Accuracy: 0.9098, Learning Rate: 0.0000100\n",
      "Epoch [128/150], Loss: 0.0004, Accuracy: 1.0000, Val Loss: 0.3691, Val Accuracy: 0.9104, Learning Rate: 0.0000100\n",
      "Epoch [129/150], Loss: 0.0004, Accuracy: 1.0000, Val Loss: 0.3675, Val Accuracy: 0.9108, Learning Rate: 0.0000100\n",
      "Epoch [130/150], Loss: 0.0004, Accuracy: 1.0000, Val Loss: 0.3727, Val Accuracy: 0.9113, Learning Rate: 0.0000100\n",
      "Epoch [131/150], Loss: 0.0004, Accuracy: 1.0000, Val Loss: 0.3701, Val Accuracy: 0.9104, Learning Rate: 0.0000100\n",
      "Epoch [132/150], Loss: 0.0004, Accuracy: 1.0000, Val Loss: 0.3731, Val Accuracy: 0.9113, Learning Rate: 0.0000100\n",
      "Epoch [133/150], Loss: 0.0004, Accuracy: 1.0000, Val Loss: 0.3661, Val Accuracy: 0.9115, Learning Rate: 0.0000100\n",
      "Epoch [134/150], Loss: 0.0004, Accuracy: 1.0000, Val Loss: 0.3651, Val Accuracy: 0.9125, Learning Rate: 0.0000100\n",
      "Epoch [135/150], Loss: 0.0004, Accuracy: 1.0000, Val Loss: 0.3687, Val Accuracy: 0.9110, Learning Rate: 0.0000100\n",
      "Epoch [136/150], Loss: 0.0004, Accuracy: 1.0000, Val Loss: 0.3673, Val Accuracy: 0.9108, Learning Rate: 0.0000100\n",
      "Epoch [137/150], Loss: 0.0004, Accuracy: 1.0000, Val Loss: 0.3686, Val Accuracy: 0.9106, Learning Rate: 0.0000100\n",
      "Epoch [138/150], Loss: 0.0004, Accuracy: 1.0000, Val Loss: 0.3736, Val Accuracy: 0.9100, Learning Rate: 0.0000100\n",
      "Epoch [139/150], Loss: 0.0003, Accuracy: 1.0000, Val Loss: 0.3687, Val Accuracy: 0.9100, Learning Rate: 0.0000100\n",
      "Epoch [140/150], Loss: 0.0004, Accuracy: 1.0000, Val Loss: 0.3697, Val Accuracy: 0.9100, Learning Rate: 0.0000100\n",
      "Epoch [141/150], Loss: 0.0004, Accuracy: 1.0000, Val Loss: 0.3714, Val Accuracy: 0.9119, Learning Rate: 0.0000100\n",
      "Epoch [142/150], Loss: 0.0003, Accuracy: 1.0000, Val Loss: 0.3707, Val Accuracy: 0.9110, Learning Rate: 0.0000100\n",
      "Epoch [143/150], Loss: 0.0004, Accuracy: 1.0000, Val Loss: 0.3744, Val Accuracy: 0.9108, Learning Rate: 0.0000100\n",
      "Epoch [144/150], Loss: 0.0004, Accuracy: 1.0000, Val Loss: 0.3726, Val Accuracy: 0.9100, Learning Rate: 0.0000100\n",
      "Epoch [145/150], Loss: 0.0004, Accuracy: 1.0000, Val Loss: 0.3748, Val Accuracy: 0.9110, Learning Rate: 0.0000100\n",
      "Epoch [146/150], Loss: 0.0003, Accuracy: 1.0000, Val Loss: 0.3711, Val Accuracy: 0.9108, Learning Rate: 0.0000100\n",
      "Epoch [147/150], Loss: 0.0004, Accuracy: 1.0000, Val Loss: 0.3705, Val Accuracy: 0.9108, Learning Rate: 0.0000100\n",
      "Epoch [148/150], Loss: 0.0003, Accuracy: 1.0000, Val Loss: 0.3742, Val Accuracy: 0.9113, Learning Rate: 0.0000100\n",
      "Epoch [149/150], Loss: 0.0003, Accuracy: 1.0000, Val Loss: 0.3829, Val Accuracy: 0.9123, Learning Rate: 0.0000100\n",
      "Epoch [150/150], Loss: 0.0004, Accuracy: 1.0000, Val Loss: 0.3741, Val Accuracy: 0.9098, Learning Rate: 0.0000010\n"
     ]
    }
   ],
   "source": [
    "for epoch in range(num_epochs):\n",
    "    model.train()\n",
    "    running_loss = 0.0\n",
    "    correct_train = 0\n",
    "    total_train = 0\n",
    "\n",
    "    for (inputs, labels) in train_loader:\n",
    "        inputs, labels = inputs.to(device), labels.to(device)\n",
    "\n",
    "        optimizer.zero_grad()\n",
    "\n",
    "        outputs = model(inputs)\n",
    "        loss = criterion(outputs,labels)\n",
    "\n",
    "        loss.backward()\n",
    "        optimizer.step()\n",
    "\n",
    "        running_loss += loss.item()\n",
    "        predicted = (outputs > 0.5).float()\n",
    "        total_train += labels.size(0)\n",
    "        correct_train += (predicted == labels).sum().item()\n",
    "\n",
    "    epoch_loss = running_loss / len(train_loader)\n",
    "    epoch_acc = correct_train / total_train\n",
    "    history['loss'].append(epoch_loss)\n",
    "    history['accuracy'].append(epoch_acc)\n",
    "\n",
    "    model.eval() \n",
    "    val_loss = 0.0\n",
    "    correct_val = 0\n",
    "    total_val = 0\n",
    "    with torch.no_grad():\n",
    "        for inputs, labels in validation_loader:\n",
    "            inputs, labels = inputs.to(device), labels.to(device)\n",
    "            outputs = model(inputs)\n",
    "            loss = criterion(outputs, labels)\n",
    "            val_loss += loss.item()\n",
    "            predicted = (outputs > 0.5).float()\n",
    "            total_val += labels.size(0)\n",
    "            correct_val += (predicted == labels).sum().item()\n",
    "\n",
    "    epoch_val_loss = val_loss / len(validation_loader)\n",
    "    epoch_val_acc = correct_val / total_val\n",
    "    history['val_loss'].append(epoch_val_loss)\n",
    "    history['val_accuracy'].append(epoch_val_acc)\n",
    "\n",
    "    scheduler.step()\n",
    "\n",
    "    print(f'Epoch [{epoch+1}/{num_epochs}], Loss: {epoch_loss:.4f}, Accuracy: {epoch_acc:.4f}, Val Loss: {epoch_val_loss:.4f}, Val Accuracy: {epoch_val_acc:.4f}, Learning Rate: {scheduler.get_last_lr()[0]:.7f}')"
   ]
  },
  {
   "cell_type": "code",
   "execution_count": 18,
   "id": "eb04e96e-b08a-42e2-9d11-3868bae19965",
   "metadata": {},
   "outputs": [
    {
     "data": {
      "image/png": "[encoded data removed]",
      "text/plain": [
       "<Figure size 800x500 with 1 Axes>"
      ]
     },
     "metadata": {},
     "output_type": "display_data"
    }
   ],
   "source": [
    "pd.DataFrame(history).plot(figsize=(8, 5))\n",
    "plt.grid(True)\n",
    "plt.gca().set_ylim(0, 1)\n",
    "plt.show()"
   ]
  },
  {
   "cell_type": "code",
   "execution_count": 19,
   "id": "509e2244-5b7b-4a10-a47a-1015bb0fac93",
   "metadata": {},
   "outputs": [],
   "source": [
    "model.eval()\n",
    "all_preds = []\n",
    "all_labels = []\n",
    "all_probas = []"
   ]
  },
  {
   "cell_type": "code",
   "execution_count": 20,
   "id": "2db2bbc7-353b-498c-b353-d88881c3a6c2",
   "metadata": {},
   "outputs": [],
   "source": [
    "with torch.no_grad():\n",
    "    for inputs, labels in test_loader:\n",
    "        inputs = inputs.to(device)\n",
    "        outputs = model(inputs)\n",
    "\n",
    "        outputs = outputs.cpu()\n",
    "        labels = labels.cpu()\n",
    "\n",
    "        probas = outputs.numpy()\n",
    "        preds = (probas > 0.5).astype(int)\n",
    "\n",
    "        all_probas.extend(probas.flatten())\n",
    "        all_preds.extend(preds.flatten())\n",
    "        all_labels.extend(labels.numpy().flatten())"
   ]
  },
  {
   "cell_type": "code",
   "execution_count": 21,
   "id": "7b2cd808-d27b-42dd-9358-2cd8984d09b6",
   "metadata": {},
   "outputs": [
    {
     "name": "stdout",
     "output_type": "stream",
     "text": [
      "[[2207  205]\n",
      " [ 228 2160]]\n"
     ]
    }
   ],
   "source": [
    "print(confusion_matrix(all_labels, all_preds))"
   ]
  },
  {
   "cell_type": "code",
   "execution_count": 22,
   "id": "244e874a-0272-419e-b17b-660085cab6e2",
   "metadata": {},
   "outputs": [
    {
     "name": "stdout",
     "output_type": "stream",
     "text": [
      "0.9097916666666667\n"
     ]
    }
   ],
   "source": [
    "print(accuracy_score(all_labels, all_preds))"
   ]
  },
  {
   "cell_type": "code",
   "execution_count": 23,
   "id": "0ca7cc7b-af06-44af-b784-4de6a06f3ef1",
   "metadata": {},
   "outputs": [],
   "source": [
    "fpr, tpr, _ = roc_curve(all_labels, all_probas)\n",
    "roc_auc = auc(fpr, tpr)"
   ]
  },
  {
   "cell_type": "code",
   "execution_count": 24,
   "id": "582307f2-e6ab-454e-b4f5-c6c454557f8c",
   "metadata": {},
   "outputs": [
    {
     "data": {
      "image/png": "[encoded data removed]",
      "text/plain": [
       "<Figure size 640x480 with 1 Axes>"
      ]
     },
     "metadata": {},
     "output_type": "display_data"
    }
   ],
   "source": [
    "plt.figure()\n",
    "plt.plot(fpr, tpr, label=f'CNN2D (AUC = {roc_auc:.4f})')\n",
    "plt.plot([0, 1], [0, 1], 'k--')\n",
    "plt.xlabel('Taxa de Falsos Positivos')\n",
    "plt.ylabel('Taxa de Verdadeiros Positivos')\n",
    "plt.title('Curva ROC')\n",
    "plt.legend(loc='lower right')\n",
    "plt.show()"
   ]
  }
 ],
 "metadata": {
  "kernelspec": {
   "display_name": "Python 3 (ipykernel)",
   "language": "python",
   "name": "python3"
  },
  "language_info": {
   "codemirror_mode": {
    "name": "ipython",
    "version": 3
   },
   "file_extension": ".py",
   "mimetype": "text/x-python",
   "name": "python",
   "nbconvert_exporter": "python",
   "pygments_lexer": "ipython3",
   "version": "3.11.13"
  }
 },
 "nbformat": 4,
 "nbformat_minor": 5
}
